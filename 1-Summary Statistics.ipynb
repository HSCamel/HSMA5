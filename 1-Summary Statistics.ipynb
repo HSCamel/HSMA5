{
 "cells": [
  {
   "cell_type": "markdown",
   "id": "ae0dfd03",
   "metadata": {},
   "source": [
    "The intent of this script is to create a series of summary statistics to better understand the ECDS data and the distrubtion of diagnostic procedures.\n",
    "note: some of the sensitive (not sure if I can share) part of the code is removed and replaced witha  comment"
   ]
  },
  {
   "cell_type": "code",
   "execution_count": null,
   "id": "5a4f20f7",
   "metadata": {},
   "outputs": [],
   "source": [
    "\n",
    "import pandas as pd\n",
    "import pyodbc\n",
    "import numpy as np\n",
    "import csv\n",
    "import matplotlib.pyplot as plt\n",
    "from scipy.stats.contingency import association\n",
    "import dash\n",
    "from dash import html\n",
    "from dash import dcc\n",
    "import numpy as np\n",
    "import pandas as pd\n",
    "import dash_cytoscape as cyto\n",
    "import networkx as nx"
   ]
  },
  {
   "cell_type": "code",
   "execution_count": null,
   "id": "5c9fb9c6",
   "metadata": {},
   "outputs": [],
   "source": [
    "conn = pyodbc.connect() #connection details for SUS database"
   ]
  },
  {
   "cell_type": "code",
   "execution_count": null,
   "id": "4687dd74",
   "metadata": {},
   "outputs": [],
   "source": [
    "df = pd.read_sql_query() #simple select querry to pull from data table\n"
   ]
  },
  {
   "cell_type": "code",
   "execution_count": null,
   "id": "3a61b431",
   "metadata": {},
   "outputs": [],
   "source": [
    "#create counts for investigation codes\n",
    "invs_count = df['Der_Number_EC_Investigation'].value_counts(sort=False)\n",
    "Prov_count = df['Provider_Code'].value_counts(sort=True)\n",
    "\n",
    "sinvs = invs_count.sort_index()\n",
    "sinvs1 = sinvs.drop(sinvs.index[0])\n",
    "#create some graphs looking at the distribution of investigation count\n",
    "fig, ax = plt.subplots(2)\n",
    "fig.suptitle(\"The Number of Unique Investigation Conducted\")\n",
    "ax[0].plot(sinvs)\n",
    "ax[0].set_title(\"Single Investigation included\")\n",
    "ax[0].xaxis.set_ticks(np.arange(1,25,1))\n",
    "ax[1].plot(sinvs1)\n",
    "ax[1].xaxis.set_ticks(np.arange(1,25,1))\n",
    "ax[1].set_title(\"Single Investigations excluded\")\n",
    "fig.tight_layout()\n"
   ]
  },
  {
   "cell_type": "code",
   "execution_count": null,
   "id": "3fce0eee",
   "metadata": {},
   "outputs": [],
   "source": [
    "##create counts per provider and exclude patients with just 1 investigation\n",
    "inv_prov_count = df.groupby(['Provider_Code','Der_Number_EC_Investigation']).size().to_frame('size').reset_index()\n",
    "inv_prov_count = inv_prov_count[inv_prov_count.Der_Number_EC_Investigation != 1]\n",
    "fig, ax = plt.subplots()\n",
    "for key, grp in inv_prov_count.groupby(['Provider_Code']):\n",
    "    ax = grp.plot(ax= ax, kind='line', x= 'Der_Number_EC_Investigation', y= 'size')\n",
    "\n",
    "\n",
    "plt.legend().remove()\n",
    "plt.show()\n",
    "\n",
    "inv_prov_count.groupby(['Provider_Code']).mean()\n",
    "inv_prov_count"
   ]
  },
  {
   "cell_type": "code",
   "execution_count": null,
   "id": "e7d94ce6",
   "metadata": {},
   "outputs": [],
   "source": [
    "#Look at the Mean/Max/min per provider of number of investigation done. \n",
    "means_ivc = inv_prov_count.groupby(['Provider_Code']).mean().reset_index()\n",
    "max_ivc = inv_prov_count.groupby(['Provider_Code']).max().reset_index()\n",
    "min_means = means_ivc.min()\n",
    "max_means = means_ivc.max()\n",
    "print(min_means, max_means)\n",
    "fig, ax = plt.subplots()\n",
    "#fig(num=None, figsize=(15,5), dpi=300, facecolor='w', edgecolor='r')\n",
    "ax.plot(means_ivc.Provider_Code, means_ivc.Der_Number_EC_Investigation)\n",
    "fig.set_figwidth(10)\n",
    "ax.xaxis.set_visible(False)\n",
    "\n",
    "fig, ax = plt.subplots()\n",
    "fig.suptitle(\"Break down of Mean-tests per provider\")\n",
    "ax.hist(means_ivc.Der_Number_EC_Investigation, bins=13, linewidth=0.4, edgecolor=\"white\")\n",
    "ax.set_xlabel(\"Mean Tests\")\n",
    "fig.set_figwidth(10)\n",
    "\n",
    "ax.set(xlim=(0, 13), \n",
    "       ylim=(0, 32), )"
   ]
  },
  {
   "cell_type": "code",
   "execution_count": null,
   "id": "bbb034f3",
   "metadata": {},
   "outputs": [],
   "source": [
    "\n"
   ]
  },
  {
   "cell_type": "code",
   "execution_count": null,
   "id": "f4c93424",
   "metadata": {},
   "outputs": [],
   "source": [
    "df_test = pd.read_sql_query() #querry that creates distinct counts of the provider per investigation - not sure why I did this way\n"
   ]
  },
  {
   "cell_type": "code",
   "execution_count": null,
   "id": "54274129",
   "metadata": {},
   "outputs": [],
   "source": [
    "#looking at breakdown per investigation code and histogram\n",
    "investigation_Count = df_test.groupby('InvestigationDescription').size().to_frame('Count').reset_index()\n",
    "investigation_Count.sort_values(by= 'Count', ascending=True)\n",
    "fig, ax = plt.subplots()\n",
    "ax.barh(y=investigation_Count.InvestigationDescription, width= sorted(investigation_Count.Count), align='center')\n",
    "fig.set_figheight(10)\n",
    "fig, ax = plt.subplots()\n",
    "ax.hist(investigation_Count.Count, bins=20, linewidth=0.4, edgecolor=\"white\")"
   ]
  },
  {
   "cell_type": "code",
   "execution_count": null,
   "id": "cd119e87",
   "metadata": {},
   "outputs": [],
   "source": [
    "#Looking at hte cross tab between provider and investigation to see if there is any provider the like one more than the other. \n",
    "inv_prov_test_corr =  pd.read_sql_query() # Looking at just the provider and investigation only\n",
    "pd.crosstab(inv_prov_test_corr.Provider_Code, inv_prov_test_corr.InvestigationDescription)\n",
    "ot = pd.crosstab(inv_prov_test_corr.Provider_Code, inv_prov_test_corr.InvestigationDescription)\n",
    "\n",
    "matric_corss = association(pivot)\n",
    "print(matric_corss)"
   ]
  },
  {
   "cell_type": "code",
   "execution_count": null,
   "id": "846aa212",
   "metadata": {},
   "outputs": [],
   "source": [
    "piv"
   ]
  },
  {
   "cell_type": "code",
   "execution_count": null,
   "id": "329498e7",
   "metadata": {},
   "outputs": [],
   "source": [
    "inv_correlations = pd.read_sql_query() # Looking purely patient and investigation ow"
   ]
  },
  {
   "cell_type": "code",
   "execution_count": null,
   "id": "100e6428",
   "metadata": {},
   "outputs": [],
   "source": [
    "#Creates a cross tab of investigation by investigation depending on how many times they have a similar patient. This can be the start of the network analysis(But I do not use it)\n",
    "pivot = pd.crosstab(inv_correlations.EC_Ident, inv_correlations.InvestigationDescription)\n",
    "c = pivot.T @ pivot\n",
    "c = c.mask(np.triu(c, 1) == 0)\n",
    "c = c.stack()\n",
    "c = c.rename_axis(['name1', 'name2']).reset_index(name='count')\n"
   ]
  },
  {
   "cell_type": "code",
   "execution_count": null,
   "id": "1ba400dc",
   "metadata": {},
   "outputs": [],
   "source": [
    "c.head()"
   ]
  },
  {
   "cell_type": "code",
   "execution_count": null,
   "id": "480372fe",
   "metadata": {},
   "outputs": [],
   "source": []
  }
 ],
 "metadata": {
  "kernelspec": {
   "display_name": "Python 3",
   "language": "python",
   "name": "python3"
  },
  "language_info": {
   "codemirror_mode": {
    "name": "ipython",
    "version": 3
   },
   "file_extension": ".py",
   "mimetype": "text/x-python",
   "name": "python",
   "nbconvert_exporter": "python",
   "pygments_lexer": "ipython3",
   "version": "3.10.11"
  }
 },
 "nbformat": 4,
 "nbformat_minor": 5
}
